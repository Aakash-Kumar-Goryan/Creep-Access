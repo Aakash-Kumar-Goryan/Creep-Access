{
 "cells": [
  {
   "cell_type": "code",
   "execution_count": 1,
   "metadata": {},
   "outputs": [
    {
     "name": "stdout",
     "output_type": "stream",
     "text": [
      "No module named 'google' found\n"
     ]
    }
   ],
   "source": [
    "from bs4 import BeautifulSoup\n",
    "import pandas as pd\n",
    "import time\n",
    "try: \n",
    "    from googlesearch import search \n",
    "except ImportError:  \n",
    "    print(\"No module named 'google' found\")\n",
    "from selenium import webdriver\n",
    "options = webdriver.ChromeOptions()\n",
    "# options.add_argument('--headless')\n",
    "options.add_argument('--disable-gpu')  # Last I checked this was necessary.\n",
    "CHROMEDRIVER_PATH = \"E:/Solve for Tomorrow (6292020)/Selenium/chromedriver.exe\"\n",
    "driver = webdriver.Chrome(CHROMEDRIVER_PATH, options=options)"
   ]
  },
  {
   "cell_type": "code",
   "execution_count": 2,
   "metadata": {},
   "outputs": [],
   "source": [
    "driver.get(\"https://www.easemytrip.com/\")\n",
    "driver.maximize_window()"
   ]
  },
  {
   "cell_type": "code",
   "execution_count": 19,
   "metadata": {},
   "outputs": [],
   "source": [
    "# content = driver.page_source\n",
    "# soup = BeautifulSoup(content)\n",
    "# soup.findAll('div', attrs={'class':'middle_sec'})"
   ]
  },
  {
   "cell_type": "code",
   "execution_count": 3,
   "metadata": {},
   "outputs": [],
   "source": [
    "button = driver.find_element_by_xpath('//*[@id=\"myTopnav\"]/div[1]/ul/li[1]/a')\n",
    "webdriver.ActionChains(driver).move_to_element(button).perform()\n",
    "time.sleep(2)\n",
    "webdriver.ActionChains(driver).click(button).perform()"
   ]
  },
  {
   "cell_type": "code",
   "execution_count": 7,
   "metadata": {},
   "outputs": [
    {
     "ename": "AttributeError",
     "evalue": "'WebDriver' object has no attribute 'findElements'",
     "output_type": "error",
     "traceback": [
      "\u001b[1;31m---------------------------------------------------------------------------\u001b[0m",
      "\u001b[1;31mAttributeError\u001b[0m                            Traceback (most recent call last)",
      "\u001b[1;32m<ipython-input-7-41670f8d6d3e>\u001b[0m in \u001b[0;36m<module>\u001b[1;34m\u001b[0m\n\u001b[0;32m      1\u001b[0m \u001b[1;31m# driver.find_element_by_xpath('/html/body/div[13]/div/div/ul')\u001b[0m\u001b[1;33m\u001b[0m\u001b[1;33m\u001b[0m\u001b[1;33m\u001b[0m\u001b[0m\n\u001b[1;32m----> 2\u001b[1;33m \u001b[0mallElements\u001b[0m \u001b[1;33m=\u001b[0m \u001b[0mdriver\u001b[0m\u001b[1;33m.\u001b[0m\u001b[0mfindElements\u001b[0m\u001b[1;33m(\u001b[0m\u001b[0mBy\u001b[0m\u001b[1;33m.\u001b[0m\u001b[0mxpath\u001b[0m\u001b[1;33m(\u001b[0m\u001b[1;34m\"/html/body/div[13]/div/div/ul/li\"\u001b[0m\u001b[1;33m)\u001b[0m\u001b[1;33m)\u001b[0m\u001b[1;33m;\u001b[0m\u001b[1;33m\u001b[0m\u001b[1;33m\u001b[0m\u001b[0m\n\u001b[0m\u001b[0;32m      3\u001b[0m \u001b[1;33m\u001b[0m\u001b[0m\n\u001b[0;32m      4\u001b[0m \u001b[1;31m# for (WebElement element: allElements) {\u001b[0m\u001b[1;33m\u001b[0m\u001b[1;33m\u001b[0m\u001b[1;33m\u001b[0m\u001b[0m\n\u001b[0;32m      5\u001b[0m \u001b[1;31m#       System.out.println(element.getText());\u001b[0m\u001b[1;33m\u001b[0m\u001b[1;33m\u001b[0m\u001b[1;33m\u001b[0m\u001b[0m\n",
      "\u001b[1;31mAttributeError\u001b[0m: 'WebDriver' object has no attribute 'findElements'"
     ]
    }
   ],
   "source": [
    "# driver.find_element_by_xpath('/html/body/div[13]/div/div/ul')\n",
    "allElements = driver.findElements(By.xpath(\"/html/body/div[13]/div/div/ul/li\")); \n",
    "\n",
    "# for (WebElement element: allElements) {\n",
    "#       System.out.println(element.getText());\n",
    "# }\n",
    "allElements"
   ]
  },
  {
   "cell_type": "code",
   "execution_count": 23,
   "metadata": {},
   "outputs": [
    {
     "ename": "IndexError",
     "evalue": "list index out of range",
     "output_type": "error",
     "traceback": [
      "\u001b[1;31m---------------------------------------------------------------------------\u001b[0m",
      "\u001b[1;31mIndexError\u001b[0m                                Traceback (most recent call last)",
      "\u001b[1;32m<ipython-input-23-7d27c8915692>\u001b[0m in \u001b[0;36m<module>\u001b[1;34m\u001b[0m\n\u001b[0;32m      1\u001b[0m \u001b[1;31m#clicking view more\u001b[0m\u001b[1;33m\u001b[0m\u001b[1;33m\u001b[0m\u001b[1;33m\u001b[0m\u001b[0m\n\u001b[1;32m----> 2\u001b[1;33m \u001b[0mbutton\u001b[0m \u001b[1;33m=\u001b[0m \u001b[0mdriver\u001b[0m\u001b[1;33m.\u001b[0m\u001b[0mfind_elements_by_class_name\u001b[0m\u001b[1;33m(\u001b[0m\u001b[1;34m\"btn-white-green\"\u001b[0m\u001b[1;33m)\u001b[0m\u001b[1;33m[\u001b[0m\u001b[1;36m0\u001b[0m\u001b[1;33m]\u001b[0m\u001b[1;33m\u001b[0m\u001b[1;33m\u001b[0m\u001b[0m\n\u001b[0m\u001b[0;32m      3\u001b[0m \u001b[1;32mfor\u001b[0m \u001b[0mi\u001b[0m \u001b[1;32min\u001b[0m \u001b[0mrange\u001b[0m\u001b[1;33m(\u001b[0m\u001b[1;36m15\u001b[0m\u001b[1;33m)\u001b[0m\u001b[1;33m:\u001b[0m\u001b[1;33m\u001b[0m\u001b[1;33m\u001b[0m\u001b[0m\n\u001b[0;32m      4\u001b[0m     \u001b[0mwebdriver\u001b[0m\u001b[1;33m.\u001b[0m\u001b[0mActionChains\u001b[0m\u001b[1;33m(\u001b[0m\u001b[0mdriver\u001b[0m\u001b[1;33m)\u001b[0m\u001b[1;33m.\u001b[0m\u001b[0mmove_to_element\u001b[0m\u001b[1;33m(\u001b[0m\u001b[0mbutton\u001b[0m\u001b[1;33m)\u001b[0m\u001b[1;33m.\u001b[0m\u001b[0mperform\u001b[0m\u001b[1;33m(\u001b[0m\u001b[1;33m)\u001b[0m\u001b[1;33m\u001b[0m\u001b[1;33m\u001b[0m\u001b[0m\n\u001b[0;32m      5\u001b[0m     \u001b[0mtime\u001b[0m\u001b[1;33m.\u001b[0m\u001b[0msleep\u001b[0m\u001b[1;33m(\u001b[0m\u001b[1;36m2\u001b[0m\u001b[1;33m)\u001b[0m\u001b[1;33m\u001b[0m\u001b[1;33m\u001b[0m\u001b[0m\n",
      "\u001b[1;31mIndexError\u001b[0m: list index out of range"
     ]
    }
   ],
   "source": [
    "# #clicking view more\n",
    "# button = driver.find_elements_by_class_name(\"btn-white-green\")[0]\n",
    "# for i in range(15):\n",
    "#     webdriver.ActionChains(driver).move_to_element(button).perform()\n",
    "#     time.sleep(2)\n",
    "#     webdriver.ActionChains(driver).click(button).perform()"
   ]
  },
  {
   "cell_type": "code",
   "execution_count": null,
   "metadata": {},
   "outputs": [],
   "source": [
    "# speakers=[] #List to speaker information\n",
    "# speaker_image_urls = []\n",
    "# content = driver.page_source\n",
    "# soup = BeautifulSoup(content)\n",
    "# for div in soup.findAll('div', attrs={'class':'speaker'}):\n",
    "#     speaker = div.find('div', attrs={'class':'speaker__content__inner'})\n",
    "#     speaker_image = div.find('div', attrs={'class':'speaker__image'})\n",
    "#     speakers.append(speaker.get_text(strip=True, separator=\"$\").split('$'))\n",
    "#     speaker_image_urls.append(speaker_image['style'][23:-3])\n",
    "# print('No. of speakers: ', len(speakers))\n",
    "# print(speakers[0])\n",
    "# print(speaker_image_urls[0])"
   ]
  },
  {
   "cell_type": "code",
   "execution_count": null,
   "metadata": {},
   "outputs": [],
   "source": [
    "# names = []\n",
    "# Designations = []\n",
    "# companies = []\n",
    "# for speaker in speakers:\n",
    "#     names.append(speaker[0])\n",
    "#     Designations.append(speaker[1])\n",
    "#     companies.append(speaker[2])"
   ]
  },
  {
   "cell_type": "code",
   "execution_count": null,
   "metadata": {},
   "outputs": [],
   "source": [
    "# linkedin_urls = []\n",
    "# for speaker in speakers:\n",
    "#     query = speaker[0] + ' ' + speaker[1] + ' ' + speaker[2] + ' linkedin'\n",
    "# #     query = 'Brad Smith President Microsoft Corporation linkedin'\n",
    "#     for j in search(query, tld=\"co.in\", num=10, stop=1, pause=2):\n",
    "#         linkedin_urls.append(j)"
   ]
  },
  {
   "cell_type": "code",
   "execution_count": null,
   "metadata": {},
   "outputs": [],
   "source": [
    "# driver.execute_script(\"window.scrollBy(0,0)\",\"\")\n",
    "# time.sleep(2)\n",
    "# short_biographies = []\n",
    "# for i in range(len(names)):\n",
    "#     el = driver.find_elements_by_class_name(\"speaker\")\n",
    "#     webdriver.ActionChains(driver).move_to_element(el[i]).perform()\n",
    "#     time.sleep(1)\n",
    "#     webdriver.ActionChains(driver).click(el[i]).perform()\n",
    "#     content = driver.page_source\n",
    "#     soup = BeautifulSoup(content)\n",
    "#     for obj in soup.findAll('div', attrs={'class':'modal-content'}):\n",
    "#         short_biographies.append(obj.find_all(\"p\")[0].text)\n",
    "#     close_button = driver.find_elements_by_class_name(\"close-btn\")\n",
    "#     print(i,' \\n')\n",
    "#     webdriver.ActionChains(driver).click(close_button[0]).perform()"
   ]
  },
  {
   "cell_type": "code",
   "execution_count": null,
   "metadata": {},
   "outputs": [],
   "source": [
    "# len(short_biographies)"
   ]
  },
  {
   "cell_type": "code",
   "execution_count": null,
   "metadata": {},
   "outputs": [],
   "source": [
    "# df = pd.DataFrame({'Speaker Name':names,\n",
    "#                    'Display Pic url':speaker_image_urls,\n",
    "#                    'Designation':Designations,\n",
    "#                    'Company':companies,\n",
    "#                    'Short bio':short_biographies,\n",
    "#                    'Linkedin': linkedin_urls}) \n",
    "# df.to_csv('ID01.csv', index=False, encoding='utf-8')"
   ]
  }
 ],
 "metadata": {
  "kernelspec": {
   "display_name": "Python 3",
   "language": "python",
   "name": "python3"
  },
  "language_info": {
   "codemirror_mode": {
    "name": "ipython",
    "version": 3
   },
   "file_extension": ".py",
   "mimetype": "text/x-python",
   "name": "python",
   "nbconvert_exporter": "python",
   "pygments_lexer": "ipython3",
   "version": "3.7.6"
  }
 },
 "nbformat": 4,
 "nbformat_minor": 4
}
