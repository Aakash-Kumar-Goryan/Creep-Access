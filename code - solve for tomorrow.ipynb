{
 "cells": [
  {
   "cell_type": "code",
   "execution_count": 3,
   "metadata": {},
   "outputs": [],
   "source": [
    "from bs4 import BeautifulSoup\n",
    "import pandas as pd\n",
    "import time\n",
    "from selenium import webdriver\n",
    "options = webdriver.ChromeOptions()\n",
    "# options.add_argument('--headless')\n",
    "options.add_argument('--no-sandbox')\n",
    "options.add_argument('--disable-dev-shm-usage')\n",
    "options.add_argument('window-size=1920x1480')\n",
    "options.add_argument('--disable-gpu')  # Last I checked this was necessary.\n",
    "CHROMEDRIVER_PATH = 'E:/GOMMT/Solve for Tomorrow (6292020)/Selenium/chromedriver.exe'\n",
    "driver = webdriver.Chrome(CHROMEDRIVER_PATH, options=options)"
   ]
  },
  {
   "cell_type": "markdown",
   "metadata": {},
   "source": [
    "# DATA"
   ]
  },
  {
   "cell_type": "code",
   "execution_count": 4,
   "metadata": {},
   "outputs": [
    {
     "ename": "IndexError",
     "evalue": "list index out of range",
     "output_type": "error",
     "traceback": [
      "\u001b[1;31m---------------------------------------------------------------------------\u001b[0m",
      "\u001b[1;31mIndexError\u001b[0m                                Traceback (most recent call last)",
      "\u001b[1;32m<ipython-input-4-da1d8d0db113>\u001b[0m in \u001b[0;36m<module>\u001b[1;34m\u001b[0m\n\u001b[0;32m     15\u001b[0m \u001b[1;32mfor\u001b[0m \u001b[0mbt_cnt\u001b[0m \u001b[1;32min\u001b[0m \u001b[0mrange\u001b[0m\u001b[1;33m(\u001b[0m\u001b[0mnoofflights\u001b[0m\u001b[1;33m)\u001b[0m\u001b[1;33m:\u001b[0m\u001b[1;33m\u001b[0m\u001b[1;33m\u001b[0m\u001b[0m\n\u001b[0;32m     16\u001b[0m     \u001b[0mBookbutton\u001b[0m \u001b[1;33m=\u001b[0m \u001b[0mdriver\u001b[0m\u001b[1;33m.\u001b[0m\u001b[0mfind_elements_by_class_name\u001b[0m\u001b[1;33m(\u001b[0m\u001b[1;34m'book-bt-n'\u001b[0m\u001b[1;33m)\u001b[0m\u001b[1;33m\u001b[0m\u001b[1;33m\u001b[0m\u001b[0m\n\u001b[1;32m---> 17\u001b[1;33m     \u001b[0mwebdriver\u001b[0m\u001b[1;33m.\u001b[0m\u001b[0mActionChains\u001b[0m\u001b[1;33m(\u001b[0m\u001b[0mdriver\u001b[0m\u001b[1;33m)\u001b[0m\u001b[1;33m.\u001b[0m\u001b[0mmove_to_element\u001b[0m\u001b[1;33m(\u001b[0m\u001b[0mBookbutton\u001b[0m\u001b[1;33m[\u001b[0m\u001b[0mbt_cnt\u001b[0m\u001b[1;33m]\u001b[0m\u001b[1;33m)\u001b[0m\u001b[1;33m.\u001b[0m\u001b[0mperform\u001b[0m\u001b[1;33m(\u001b[0m\u001b[1;33m)\u001b[0m\u001b[1;33m\u001b[0m\u001b[1;33m\u001b[0m\u001b[0m\n\u001b[0m\u001b[0;32m     18\u001b[0m     \u001b[0mwebdriver\u001b[0m\u001b[1;33m.\u001b[0m\u001b[0mActionChains\u001b[0m\u001b[1;33m(\u001b[0m\u001b[0mdriver\u001b[0m\u001b[1;33m)\u001b[0m\u001b[1;33m.\u001b[0m\u001b[0mclick\u001b[0m\u001b[1;33m(\u001b[0m\u001b[0mBookbutton\u001b[0m\u001b[1;33m[\u001b[0m\u001b[0mbt_cnt\u001b[0m\u001b[1;33m]\u001b[0m\u001b[1;33m)\u001b[0m\u001b[1;33m.\u001b[0m\u001b[0mperform\u001b[0m\u001b[1;33m(\u001b[0m\u001b[1;33m)\u001b[0m\u001b[1;33m\u001b[0m\u001b[1;33m\u001b[0m\u001b[0m\n\u001b[0;32m     19\u001b[0m     \u001b[0mtime\u001b[0m\u001b[1;33m.\u001b[0m\u001b[0msleep\u001b[0m\u001b[1;33m(\u001b[0m\u001b[1;36m2\u001b[0m\u001b[1;33m)\u001b[0m\u001b[1;33m\u001b[0m\u001b[1;33m\u001b[0m\u001b[0m\n",
      "\u001b[1;31mIndexError\u001b[0m: list index out of range"
     ]
    }
   ],
   "source": [
    "Airlines =  []\n",
    "DepPlace =  []\n",
    "DepTime  =  []\n",
    "ArrPlace =  []\n",
    "ArrTime  =  []\n",
    "PriBefore=  []\n",
    "CouCodes =  []\n",
    "Message  =  []\n",
    "PriAfter =  []\n",
    "driver.get('https://flight.easemytrip.com/FlightList/Index?srch=DEL-Delhi-India|BOM-Mumbai-India|09/07/2020&px=1-0-0&cbn=0&ar=undefined&isow=true&isdm=true&lng=&')\n",
    "driver.maximize_window()\n",
    "time.sleep(5)\n",
    "Bookbutton = driver.find_elements_by_class_name('book-bt-n')\n",
    "noofflights = len(Bookbutton)\n",
    "for bt_cnt in range(noofflights):\n",
    "    Bookbutton = driver.find_elements_by_class_name('book-bt-n')\n",
    "    webdriver.ActionChains(driver).move_to_element(Bookbutton[bt_cnt]).perform()\n",
    "    webdriver.ActionChains(driver).click(Bookbutton[bt_cnt]).perform()\n",
    "    time.sleep(2)\n",
    "    ### ON BOOKING PAGE\n",
    "    # FLIGHT DETAILS\n",
    "    content = driver.page_source\n",
    "    soup = BeautifulSoup(content)\n",
    "    Flight = soup.find('div', attrs={'class':'bor pdb10'})\n",
    "    detail = Flight.find('div',attrs={'class':'fli-cm'}).text\n",
    "    DeparturePlace = detail.split()[0]\n",
    "    DepartureTime  =detail.split()[1]\n",
    "    # print(DeparturePlace)\n",
    "    # print(DepartureTime)\n",
    "    detail = Flight.find('div',attrs={'class':'fli-cm1'}).text\n",
    "    ArrivalPlace = detail.split()[0]\n",
    "    ArrivalTime  = detail.split()[1]\n",
    "    # print(ArrivalPlace)\n",
    "    # print(ArrivalTime)\n",
    "    Airline = soup.find('div', attrs={'class':'fli1-m-r'}).find('span').text\n",
    "    # print(Airline)\n",
    "\n",
    "    # Price Without coupon\n",
    "    total = soup.find('div', attrs={'id':'divFareSummary'})\n",
    "    BeforeGrandTotal = total.find('div', attrs={'class':'pr-r1_Rs'}).text.strip()\n",
    "    # print(BeforeGrandTotal)\n",
    "\n",
    "    couponscodes = soup.findAll('div', attrs={'class':'coupn_ttl'})\n",
    "    # print(couponscodes[0].text)\n",
    "    \n",
    "    ## SELECTING ALL COUPONS FROM A BOOKING\n",
    "    checkmark = driver.find_elements_by_class_name('coupn_checkmark')\n",
    "    i = 0\n",
    "    for mark in checkmark:\n",
    "        try :\n",
    "            webdriver.ActionChains(driver).move_to_element(mark).perform()\n",
    "            webdriver.ActionChains(driver).click(mark).perform()\n",
    "        except Exception:\n",
    "            continue\n",
    "        time.sleep(2)\n",
    "        content = driver.page_source\n",
    "        soup = BeautifulSoup(content)\n",
    "        msg = soup.find('p', attrs={'id':'easeFareDetails1_promodiv'}).text\n",
    "        #     print(msg)\n",
    "        total = soup.find('div', attrs={'id':'divFareSummary'})\n",
    "        AfterGrandTotal = total.find('div', attrs={'class':'pr-r1_Rs'}).text.strip()\n",
    "        #     print(AfterGrandTotal)\n",
    "        Airlines.append(Airline)\n",
    "        DepPlace.append(DeparturePlace)\n",
    "        DepTime.append(DepartureTime)\n",
    "        ArrPlace.append(ArrivalPlace)\n",
    "        ArrTime.append(ArrivalTime)\n",
    "        PriBefore.append(BeforeGrandTotal)\n",
    "        CouCodes.append(couponscodes[i].text)\n",
    "        Message.append(msg)\n",
    "        PriAfter.append(AfterGrandTotal)\n",
    "        i+=1\n",
    "    driver.execute_script(\"window.history.go(-1)\")\n",
    "    time.sleep(5)"
   ]
  },
  {
   "cell_type": "code",
   "execution_count": 5,
   "metadata": {},
   "outputs": [
    {
     "data": {
      "text/plain": [
       "(['AirAsia',\n",
       "  'AirAsia',\n",
       "  'AirAsia',\n",
       "  'AirAsia',\n",
       "  'SpiceJet',\n",
       "  'SpiceJet',\n",
       "  'SpiceJet',\n",
       "  'SpiceJet',\n",
       "  'Indigo',\n",
       "  'Indigo'],\n",
       " ['EMTNCF',\n",
       "  'FREEFLIGHT',\n",
       "  'EMTNCF',\n",
       "  'FREEFLIGHT',\n",
       "  'EMTNCF',\n",
       "  'FREEFLIGHT',\n",
       "  'EMTNCF',\n",
       "  'FREEFLIGHT',\n",
       "  'EMTNCF',\n",
       "  'FREEFLIGHT'])"
      ]
     },
     "execution_count": 5,
     "metadata": {},
     "output_type": "execute_result"
    }
   ],
   "source": [
    "Airlines,CouCodes"
   ]
  },
  {
   "cell_type": "code",
   "execution_count": 6,
   "metadata": {},
   "outputs": [
    {
     "name": "stdout",
     "output_type": "stream",
     "text": [
      "10\n",
      "10\n",
      "10\n",
      "10\n",
      "10\n",
      "10\n",
      "10\n",
      "10\n",
      "10\n"
     ]
    }
   ],
   "source": [
    "print(len(Airlines))\n",
    "print(len(DepPlace))\n",
    "print(len(DepTime))\n",
    "print(len(ArrPlace))\n",
    "print(len(ArrTime))\n",
    "print(len(PriBefore))\n",
    "print(len(PriAfter))\n",
    "print(len(CouCodes))\n",
    "print(len(Message))"
   ]
  },
  {
   "cell_type": "code",
   "execution_count": 7,
   "metadata": {},
   "outputs": [],
   "source": [
    "df = pd.DataFrame({'Airlines': Airlines,\n",
    "                   'Departure Place': DepPlace,\n",
    "                   'Departure Time': DepTime,\n",
    "                   'Arrival Place': ArrPlace,\n",
    "                   'Arrival Time': ArrTime,\n",
    "                   'Initial Price': PriBefore,\n",
    "                   'After Price': PriAfter,\n",
    "                   'Coupon Code': CouCodes,\n",
    "                   'Message': Message,}) \n",
    "df.to_csv('CoupounsData.csv', index=False, encoding='utf-8')"
   ]
  }
 ],
 "metadata": {
  "kernelspec": {
   "display_name": "Python 3",
   "language": "python",
   "name": "python3"
  },
  "language_info": {
   "codemirror_mode": {
    "name": "ipython",
    "version": 3
   },
   "file_extension": ".py",
   "mimetype": "text/x-python",
   "name": "python",
   "nbconvert_exporter": "python",
   "pygments_lexer": "ipython3",
   "version": "3.7.6"
  }
 },
 "nbformat": 4,
 "nbformat_minor": 4
}
