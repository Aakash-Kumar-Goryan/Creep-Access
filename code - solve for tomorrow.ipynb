{
 "cells": [
  {
   "cell_type": "code",
   "execution_count": 1,
   "metadata": {},
   "outputs": [
    {
     "name": "stdout",
     "output_type": "stream",
     "text": [
      "No module named 'google' found\n"
     ]
    }
   ],
   "source": [
    "from bs4 import BeautifulSoup\n",
    "import pandas as pd\n",
    "import time\n",
    "try: \n",
    "    from googlesearch import search \n",
    "except ImportError:  \n",
    "    print(\"No module named 'google' found\")\n",
    "from selenium import webdriver\n",
    "options = webdriver.ChromeOptions()\n",
    "# options.add_argument('--headless')\n",
    "options.add_argument('--disable-gpu')  # Last I checked this was necessary.\n",
    "CHROMEDRIVER_PATH = 'E:/GOMMT/Solve for Tomorrow (6292020)/Selenium/chromedriver.exe'\n",
    "driver = webdriver.Chrome(CHROMEDRIVER_PATH, options=options)"
   ]
  },
  {
   "cell_type": "code",
   "execution_count": 2,
   "metadata": {},
   "outputs": [],
   "source": [
    "driver.get(\"https://www.easemytrip.com/\")\n",
    "driver.maximize_window()"
   ]
  },
  {
   "cell_type": "code",
   "execution_count": 3,
   "metadata": {},
   "outputs": [],
   "source": [
    "button = driver.find_element_by_xpath('//*[@id=\"myTopnav\"]/div[1]/ul/li[1]/a')\n",
    "webdriver.ActionChains(driver).move_to_element(button).perform()\n",
    "time.sleep(2)\n",
    "webdriver.ActionChains(driver).click(button).perform()"
   ]
  },
  {
   "cell_type": "code",
   "execution_count": 4,
   "metadata": {},
   "outputs": [
    {
     "data": {
      "text/plain": [
       "['https://www.easemytrip.com/offers/coupon.html',\n",
       " 'https://www.easemytrip.com/offers/new-user.html',\n",
       " 'https://www.easemytrip.com/offers/coupon.html',\n",
       " 'https://www.easemytrip.com/offers/new-user.html',\n",
       " 'https://www.easemytrip.com/offers/coupon.html',\n",
       " 'https://www.easemytrip.com/offers/new-user.html']"
      ]
     },
     "execution_count": 4,
     "metadata": {},
     "output_type": "execute_result"
    }
   ],
   "source": [
    "# From https://www.easemytrip.com/flights.html\n",
    "List = driver.find_element_by_xpath('/html/body/div[13]/div/div/ul')\n",
    "allElements = List.find_elements_by_tag_name(\"a\")\n",
    "links = []\n",
    "for element in allElements:\n",
    "    links.append(element.get_attribute(\"href\"))\n",
    "links"
   ]
  },
  {
   "cell_type": "code",
   "execution_count": 8,
   "metadata": {},
   "outputs": [],
   "source": [
    "class coupon:\n",
    "    def __init__(self, code, what_You_Get,How_do_you_get_it,What_else_do_you_need_to_know,Terms_and_Conditions):\n",
    "        self.code = code\n",
    "        self.what_You_Get = what_You_Get\n",
    "        self.How_do_you_get_it = How_do_you_get_it\n",
    "        self.What_else_do_you_need_to_know = What_else_do_you_need_to_know\n",
    "        self.Terms_and_Conditions = Terms_and_Conditions"
   ]
  },
  {
   "cell_type": "code",
   "execution_count": 9,
   "metadata": {},
   "outputs": [],
   "source": [
    "couponList = []\n",
    "for link in links:\n",
    "    driver.get(link)\n",
    "    content = driver.page_source\n",
    "    soup = BeautifulSoup(content)\n",
    "    code = soup.find('div', attrs={'class':'cp_code'}).text\n",
    "    i = 1\n",
    "    ele = soup.findAll('ul', attrs={'class':'dot-list'})\n",
    "    a = ''.join(ele[0].findAll(text=True)).strip()\n",
    "    b = ''.join(ele[1].findAll(text=True)).strip()\n",
    "    c = ''.join(ele[2].findAll(text=True)).strip()\n",
    "    d = ''.join(ele[3].findAll(text=True)).strip()\n",
    "    x = coupon(code,a,b,c,d)\n",
    "    couponList.append(x)"
   ]
  },
  {
   "cell_type": "code",
   "execution_count": 15,
   "metadata": {},
   "outputs": [
    {
     "name": "stdout",
     "output_type": "stream",
     "text": [
      "EMT2020\n",
      "EMTFIRST\n",
      "EMT2020\n",
      "EMTFIRST\n",
      "EMT2020\n",
      "EMTFIRST\n"
     ]
    }
   ],
   "source": [
    "for coupon in couponList:\n",
    "    print(coupon.code)"
   ]
  },
  {
   "cell_type": "code",
   "execution_count": null,
   "metadata": {},
   "outputs": [],
   "source": [
    "driver.get('https://flight.easemytrip.com/FlightList/Index?srch=DEL-Delhi-India|BOM-Mumbai-India|09/07/2020&px=1-0-0&cbn=0&ar=undefined&isow=true&isdm=true&lng=&')\n"
   ]
  },
  {
   "cell_type": "code",
   "execution_count": null,
   "metadata": {},
   "outputs": [],
   "source": []
  },
  {
   "cell_type": "code",
   "execution_count": 4,
   "metadata": {},
   "outputs": [],
   "source": []
  },
  {
   "cell_type": "code",
   "execution_count": null,
   "metadata": {},
   "outputs": [],
   "source": []
  },
  {
   "cell_type": "code",
   "execution_count": null,
   "metadata": {},
   "outputs": [],
   "source": []
  },
  {
   "cell_type": "code",
   "execution_count": null,
   "metadata": {},
   "outputs": [],
   "source": []
  },
  {
   "cell_type": "code",
   "execution_count": null,
   "metadata": {},
   "outputs": [],
   "source": []
  },
  {
   "cell_type": "code",
   "execution_count": null,
   "metadata": {},
   "outputs": [],
   "source": []
  }
 ],
 "metadata": {
  "kernelspec": {
   "display_name": "Python 3",
   "language": "python",
   "name": "python3"
  },
  "language_info": {
   "codemirror_mode": {
    "name": "ipython",
    "version": 3
   },
   "file_extension": ".py",
   "mimetype": "text/x-python",
   "name": "python",
   "nbconvert_exporter": "python",
   "pygments_lexer": "ipython3",
   "version": "3.7.6"
  }
 },
 "nbformat": 4,
 "nbformat_minor": 4
}
